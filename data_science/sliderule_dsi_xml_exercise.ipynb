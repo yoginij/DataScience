{
 "cells": [
  {
   "cell_type": "markdown",
   "metadata": {},
   "source": [
    "# XML example and exercise\n",
    "****\n",
    "+ study examples of accessing nodes in XML tree structure  \n",
    "+ work on exercise to be completed and submitted\n",
    "****\n",
    "+ reference: https://docs.python.org/2.7/library/xml.etree.elementtree.html\n",
    "+ data source: http://www.dbis.informatik.uni-goettingen.de/Mondial\n",
    "****"
   ]
  },
  {
   "cell_type": "code",
   "execution_count": 1,
   "metadata": {
    "collapsed": true
   },
   "outputs": [],
   "source": [
    "from xml.etree import ElementTree as ET\n"
   ]
  },
  {
   "cell_type": "markdown",
   "metadata": {},
   "source": [
    "## XML example\n",
    "\n",
    "+ for details about tree traversal and iterators, see https://docs.python.org/2.7/library/xml.etree.elementtree.html"
   ]
  },
  {
   "cell_type": "code",
   "execution_count": 2,
   "metadata": {
    "collapsed": false
   },
   "outputs": [],
   "source": [
    "document_tree = ET.parse( '/Users/yogini/Downloads/data_wrangling_xml/data/mondial_database_less.xml' )"
   ]
  },
  {
   "cell_type": "code",
   "execution_count": 3,
   "metadata": {
    "collapsed": false
   },
   "outputs": [
    {
     "name": "stdout",
     "output_type": "stream",
     "text": [
      "Albania\n",
      "Greece\n",
      "Macedonia\n",
      "Serbia\n",
      "Montenegro\n",
      "Kosovo\n",
      "Andorra\n"
     ]
    }
   ],
   "source": [
    "# print names of all countries\n",
    "for child in document_tree.getroot():\n",
    "    print child.find('name').text"
   ]
  },
  {
   "cell_type": "code",
   "execution_count": 4,
   "metadata": {
    "collapsed": false
   },
   "outputs": [
    {
     "name": "stdout",
     "output_type": "stream",
     "text": [
      "* Albania: Tirana, Shkodër, Durrës, Vlorë, Elbasan, Korçë\n",
      "* Greece: Komotini, Kavala, Athina, Peiraias, Peristeri, Acharnes, Patra, Kozani, Kerkyra, Ioannina, Thessaloniki, Iraklio, Chania, Ermoupoli, Rhodes, Tripoli, Lamia, Chalkida, Larissa, Volos, Mytilini, Karyes\n",
      "* Macedonia: Skopje, Kumanovo\n",
      "* Serbia: Beograd, Novi Sad, Niš\n",
      "* Montenegro: Podgorica\n",
      "* Kosovo: Prishtine\n",
      "* Andorra: Andorra la Vella\n"
     ]
    }
   ],
   "source": [
    "# print names of all countries and their cities\n",
    "for element in document_tree.iterfind('country'):\n",
    "    print '* ' + element.find('name').text + ':',\n",
    "    capitals_string = ''\n",
    "    for subelement in element.getiterator('city'):\n",
    "        capitals_string += subelement.find('name').text + ', '\n",
    "    print capitals_string[:-2]"
   ]
  },
  {
   "cell_type": "markdown",
   "metadata": {},
   "source": [
    "****\n",
    "## XML exercise\n",
    "\n",
    "Using data in 'data/mondial_database.xml', the examples above, and refering to https://docs.python.org/2.7/library/xml.etree.elementtree.html, find\n",
    "\n",
    "1. 10 countries with the lowest infant mortality rates\n",
    "2. 10 cities with the largest population\n",
    "3. 10 ethnic groups with the largest overall populations (sum of best/latest estimates over all countries)\n",
    "4. name and country of a) longest river, b) largest lake and c) airport at highest elevation"
   ]
  },
  {
   "cell_type": "code",
   "execution_count": 36,
   "metadata": {
    "collapsed": false
   },
   "outputs": [],
   "source": [
    "document = ET.parse( '/Users/yogini/Downloads/data_wrangling_xml/data/mondial_database.xml' )"
   ]
  },
  {
   "cell_type": "code",
   "execution_count": 37,
   "metadata": {
    "collapsed": false
   },
   "outputs": [],
   "source": [
    "country='{'\n",
    "for element in document.iterfind('country'):\n",
    "    #print '* ' + element.find('name').text + ':',\n",
    "    if element.find('infant_mortality') is not None:\n",
    "    #if (element.find('infant_mortality').text):\n",
    "        country += \"'\" +element.find('name').text + \"':\"+\"\"+element.find('infant_mortality').text +';'\n",
    "    #for subelement in element.getiterator('city'):\n",
    "    #    capitals_string += subelement.find('name').text + ', '\n",
    "    #print capitals_string[:-2]\n",
    "    #print country\n",
    "country += '}'"
   ]
  },
  {
   "cell_type": "code",
   "execution_count": 51,
   "metadata": {
    "collapsed": false
   },
   "outputs": [
    {
     "name": "stdout",
     "output_type": "stream",
     "text": [
      "{'Albania':13.19;'Greece':4.78;'Macedonia':7.9;'Serbia':6.16;'Andorra':3.69;'France':3.31;'Spain':3.33;'Austria':4.16;'Czech Republic':2.63;'Germany':3.46;'Hungary':5.09;'Italy':3.31;'Liechtenstein':4.33;'Slovakia':5.35;'Slovenia':4.04;'Switzerland':3.73;'Belarus':3.64;'Latvia':7.91;'Lithuania':6;'Poland':6.19;'Ukraine':8.1;'Russia':7.08;'Belgium':4.18;'Luxembourg':4.28;'Netherlands':3.66;'Bosnia and Herzegovina':5.84;'Croatia':5.87;'Bulgaria':15.08;'Romania':10.16;'Turkey':21.43;'Denmark':4.1;'Estonia':6.7;'Faroe Islands':5.71;'Finland':3.36;'Norway':2.48;'Sweden':2.6;'Monaco':1.81;'Gibraltar':6.29;'Guernsey':3.47;'Iceland':3.15;'Ireland':3.74;'San Marino':4.52;'Jersey':3.86;'Malta':3.59;'Isle of Man':4.17;'Moldova':12.93;'Portugal':4.48;'United Kingdom':4.44;'Afghanistan':117.23;'China':14.79;'Iran':39;'Pakistan':57.48;'Tajikistan':35.03;'Turkmenistan':38.13;'Uzbekistan':19.84;'Armenia':13.97;'Georgia':16.68;'Azerbaijan':26.67;'Bahrain':9.68;'Bangladesh':45.67;'Myanmar':44.91;'India':43.19;'Bhutan':37.89;'Brunei':10.48;'Malaysia':13.69;'Laos':54.53;'Thailand':9.86;'Cambodia':51.36;'Vietnam':18.99;'Kazakhstan':21.61;'North Korea':24.5;'Kyrgyzstan':28.71;'Hong Kong':2.73;'Macao':3.13;'Mongolia':23.15;'Nepal':40.43;'Cyprus':8.54;'Gaza Strip':30.6;'Israel':3.98;'Egypt':22.41;'Indonesia':25.16;'Timor-Leste':38.79;'Papua New Guinea':39.67;'Iraq':37.53;'Jordan':15.73;'Kuwait':7.51;'Saudi Arabia':14.58;'Syria':15.79;'Lebanon':7.98;'West Bank':28.6;'Japan':2.13;'South Korea':3.93;'Maldives':24.59;'Oman':14;'United Arab Emirates':10.92;'Yemen':50.41;'Philippines':17.64;'Qatar':6.42;'Singapore':2.53;'Sri Lanka':9.02;'Taiwan':4.49;'Anguilla':3.4;'Antigua and Barbuda':13.29;'Aruba':11.74;'Bahamas':12.5;'Barbados':10.93;'Belize':20.31;'Guatemala':23.51;'Mexico':12.58;'Bermuda':2.48;'British Virgin Islands':13.45;'Canada':4.71;'United States':6.17;'Cayman Islands':6.21;'Costa Rica':8.7;'Nicaragua':20.36;'Panama':10.7;'Cuba':4.7;'Dominica':11.61;'Dominican Republic':19.63;'Haiti':49.43;'El Salvador':18.44;'Honduras':18.72;'Greenland':9.42;'Grenada':10.5;'Guadeloupe':8.3;'Jamaica':13.69;'Martinique':7.1;'Montserrat':13.66;'Sint Maarten':9.05;'Colombia':15.02;'Puerto Rico':7.73;'Saint Kitts and Nevis':8.98;'Saint Lucia':11.75;'Saint Pierre and Miquelon':6.95;'Saint Vincent and the Grenadines':13.07;'Trinidad and Tobago':24.82;'Turks and Caicos Islands':10.97;'Virgin Islands':6.79;'American Samoa':8.92;'Australia':4.43;'Cook Islands':14.33;'Fiji':10.2;'French Polynesia':4.78;'Guam':5.51;'Kiribati':35.37;'Marshall Islands':21.39;'Micronesia':21.93;'Nauru':8.21;'New Caledonia':5.46;'New Zealand':4.59;'Northern Mariana Islands':5.5;'Palau':11.46;'Solomon Islands':16.17;'Tonga':12.36;'Tuvalu':31.69;'Vanuatu':16.41;'Wallis and Futuna':4.49;'Samoa':20.5;'Argentina':9.96;'Bolivia':38.61;'Brazil':19.21;'Chile':7.02;'Paraguay':20.75;'Uruguay':8.97;'Peru':20.21;'French Guiana':14.6;'Guyana':33.56;'Suriname':27.07;'Venezuela':19.33;'Ecuador':17.93;'Algeria':21.76;'Libya':11.87;'Mali':104.34;'Mauritania':56.06;'Morocco':24.52;'Niger':86.27;'Tunisia':23.19;'Western Sahara':145.82;'Angola':79.99;'Congo':59.34;'Namibia':45.64;'Zaire':73.15;'Zambia':66.62;'Benin':57.09;'Burkina Faso':76.8;'Nigeria':74.09;'Togo':46.73;'Botswana':9.38;'South Africa':41.61;'Zimbabwe':26.55;'Cote dIvoire':60.16;'Ghana':38.52;'Burundi':63.44;'Rwanda':59.59;'Tanzania':43.74;'Cameroon':55.1;'Central African Republic':92.86;'Chad':90.3;'Equatorial Guinea':71.12;'Gabon':47.03;'Cape Verde':24.28;'Sudan':52.86;'South Sudan':68.16;'Comoros':65.31;'Guinea':55.24;'Liberia':69.19;'Djibouti':50.2;'Eritrea':38.44;'Ethiopia':55.77;'Somalia':100.14;'Kenya':40.71;'Gambia':65.74;'Senegal':52.72;'Guinea-Bissau':90.92;'Sierra Leone':73.29;'Uganda':60.82;'Lesotho':50.48;'Madagascar':44.88;'Malawi':48.01;'Mozambique':72.42;'Mauritius':10.59;'Mayotte':56.29;'Swaziland':54.82;'Reunion':7.5;'Saint Helena':17.63;'Sao Tome and Principe':49.16;'Seychelles':10.77;}\n"
     ]
    }
   ],
   "source": [
    "print country"
   ]
  },
  {
   "cell_type": "code",
   "execution_count": 38,
   "metadata": {
    "collapsed": false
   },
   "outputs": [],
   "source": [
    "import pandas as pd\n",
    "import numpy as np\n",
    "from collections import OrderedDict\n",
    "\n",
    "#h = pd.DataFrame(country)"
   ]
  },
  {
   "cell_type": "code",
   "execution_count": null,
   "metadata": {
    "collapsed": false
   },
   "outputs": [],
   "source": [
    "country"
   ]
  },
  {
   "cell_type": "code",
   "execution_count": 39,
   "metadata": {
    "collapsed": false
   },
   "outputs": [
    {
     "data": {
      "text/plain": [
       "'7'"
      ]
     },
     "execution_count": 39,
     "metadata": {},
     "output_type": "execute_result"
    }
   ],
   "source": [
    "country[3954]"
   ]
  },
  {
   "cell_type": "code",
   "execution_count": 40,
   "metadata": {
    "collapsed": false
   },
   "outputs": [],
   "source": [
    "country_sub=[{'country':'Albania','infant_mor':13.19},{'country':'Greece','infant_mor':4.78},{'country':'Macedonia','infant_mor':7.9},{'country':'Serbia','infant_mor':6.16},{'country':'Andorra','infant_mor':3.69},{'country':'France','infant_mor':3.31},{'country':'Spain','infant_mor':3.33},{'country':'Austria','infant_mor':4.16},{'country':'Czech Republic','infant_mor':2.63},{'country':'Germany','infant_mor':3.46},{'country':'Hungary','infant_mor':5.09},{'country':'Italy','infant_mor':3.31},{'country':'Liechtenstein','infant_mor':4.33},{'country':'Slovakia','infant_mor':5.35},{'country':'Slovenia','infant_mor':4.04},{'country':'Switzerland','infant_mor':3.73},{'country':'Belarus','infant_mor':3.64},{'country':'Latvia','infant_mor':7.91},{'country':'Lithuania','infant_mor':6},{'country':'Poland','infant_mor':6.19},{'country':'Ukraine','infant_mor':8.1},{'country':'Russia','infant_mor':7.08},{'country':'Belgium','infant_mor':4.18},{'country':'Luxembourg','infant_mor':4.28},{'country':'Netherlands','infant_mor':3.66},{'country':'Bosnia and Herzegovina','infant_mor':5.84},{'country':'Croatia','infant_mor':5.87},{'country':'Bulgaria','infant_mor':15.08},{'country':'Romania','infant_mor':10.16},{'country':'Turkey','infant_mor':21.43},{'country':'Denmark','infant_mor':4.1},{'country':'Estonia','infant_mor':6.7},{'country':'Faroe Islands','infant_mor':5.71},{'country':'Finland','infant_mor':3.36},{'country':'Norway','infant_mor':2.48},{'country':'Sweden','infant_mor':2.6},{'country':'Monaco','infant_mor':1.81},{'country':'Gibraltar','infant_mor':6.29},{'country':'Guernsey','infant_mor':3.47},{'country':'Iceland','infant_mor':3.15},{'country':'Ireland','infant_mor':3.74},{'country':'San Marino','infant_mor':4.52},{'country':'Jersey','infant_mor':3.86},{'country':'Malta','infant_mor':3.59},{'country':'Isle of Man','infant_mor':4.17},{'country':'Moldova','infant_mor':12.93},{'country':'Portugal','infant_mor':4.48},{'country':'United Kingdom','infant_mor':4.44},{'country':'Afghanistan','infant_mor':117.23},{'country':'China','infant_mor':14.79},{'country':'Iran','infant_mor':39},{'country':'Pakistan','infant_mor':57.48},{'country':'Tajikistan','infant_mor':35.03},{'country':'Turkmenistan','infant_mor':38.13},{'country':'Uzbekistan','infant_mor':19.84},{'country':'Armenia','infant_mor':13.97},{'country':'Georgia','infant_mor':16.68},{'country':'Azerbaijan','infant_mor':26.67},{'country':'Bahrain','infant_mor':9.68},{'country':'Bangladesh','infant_mor':45.67},{'country':'Myanmar','infant_mor':44.91},{'country':'India','infant_mor':43.19},{'country':'Bhutan','infant_mor':37.89},{'country':'Brunei','infant_mor':10.48},{'country':'Malaysia','infant_mor':13.69},{'country':'Laos','infant_mor':54.53},{'country':'Thailand','infant_mor':9.86},{'country':'Cambodia','infant_mor':51.36},{'country':'Vietnam','infant_mor':18.99},{'country':'Kazakhstan','infant_mor':21.61},{'country':'North Korea','infant_mor':24.5},{'country':'Kyrgyzstan','infant_mor':28.71},{'country':'Hong Kong','infant_mor':2.73},{'country':'Macao','infant_mor':3.13},{'country':'Mongolia','infant_mor':23.15},{'country':'Nepal','infant_mor':40.43},{'country':'Cyprus','infant_mor':8.54},{'country':'Gaza Strip','infant_mor':30.6},{'country':'Israel','infant_mor':3.98},{'country':'Egypt','infant_mor':22.41},{'country':'Indonesia','infant_mor':25.16},{'country':'Timor-Leste','infant_mor':38.79},{'country':'Papua New Guinea','infant_mor':39.67},{'country':'Iraq','infant_mor':37.53},{'country':'Jordan','infant_mor':15.73},{'country':'Kuwait','infant_mor':7.51},{'country':'Saudi Arabia','infant_mor':14.58},{'country':'Syria','infant_mor':15.79},{'country':'Lebanon','infant_mor':7.98},{'country':'West Bank','infant_mor':28.6},{'country':'Japan','infant_mor':2.13},{'country':'South Korea','infant_mor':3.93},{'country':'Maldives','infant_mor':24.59},{'country':'Oman','infant_mor':14},{'country':'United Arab Emirates','infant_mor':10.92},{'country':'Yemen','infant_mor':50.41},{'country':'Philippines','infant_mor':17.64},{'country':'Qatar','infant_mor':6.42},{'country':'Singapore','infant_mor':2.53},{'country':'Sri Lanka','infant_mor':9.02},{'country':'Taiwan','infant_mor':4.49},{'country':'Anguilla','infant_mor':3.4},{'country':'Antigua and Barbuda','infant_mor':13.29},{'country':'Aruba','infant_mor':11.74},{'country':'Bahamas','infant_mor':12.5},{'country':'Barbados','infant_mor':10.93},{'country':'Belize','infant_mor':20.31},{'country':'Guatemala','infant_mor':23.51},{'country':'Mexico','infant_mor':12.58},{'country':'Bermuda','infant_mor':2.48},{'country':'British Virgin Islands','infant_mor':13.45},{'country':'Canada','infant_mor':4.71},{'country':'United States','infant_mor':6.17},{'country':'Cayman Islands','infant_mor':6.21},{'country':'Costa Rica','infant_mor':8.7},{'country':'Nicaragua','infant_mor':20.36},{'country':'Panama','infant_mor':10.7},{'country':'Cuba','infant_mor':4.7},{'country':'Dominica','infant_mor':11.61},{'country':'Dominican Republic','infant_mor':19.63},{'country':'Haiti','infant_mor':49.43},{'country':'El Salvador','infant_mor':18.44},{'country':'Honduras','infant_mor':18.72},{'country':'Greenland','infant_mor':9.42},{'country':'Grenada','infant_mor':10.5},{'country':'Guadeloupe','infant_mor':8.3},{'country':'Jamaica','infant_mor':13.69},{'country':'Martinique','infant_mor':7.1},{'country':'Montserrat','infant_mor':13.66},{'country':'Sint Maarten','infant_mor':9.05},{'country':'Colombia','infant_mor':15.02},{'country':'Puerto Rico','infant_mor':7.73},{'country':'Saint Kitts and Nevis','infant_mor':8.98},{'country':'Saint Lucia','infant_mor':11.75},{'country':'Saint Pierre and Miquelon','infant_mor':6.95},{'country':'Saint Vincent and the Grenadines','infant_mor':13.07},{'country':'Trinidad and Tobago','infant_mor':24.82},{'country':'Turks and Caicos Islands','infant_mor':10.97},{'country':'Virgin Islands','infant_mor':6.79},{'country':'American Samoa','infant_mor':8.92},{'country':'Australia','infant_mor':4.43},{'country':'Cook Islands','infant_mor':14.33},{'country':'Fiji','infant_mor':10.2},{'country':'French Polynesia','infant_mor':4.78},{'country':'Guam','infant_mor':5.51},{'country':'Kiribati','infant_mor':35.37},{'country':'Marshall Islands','infant_mor':21.39},{'country':'Micronesia','infant_mor':21.93},{'country':'Nauru','infant_mor':8.21},{'country':'New Caledonia','infant_mor':5.46},{'country':'New Zealand','infant_mor':4.59},{'country':'Northern Mariana Islands','infant_mor':5.5},{'country':'Palau','infant_mor':11.46},{'country':'Solomon Islands','infant_mor':16.17},{'country':'Tonga','infant_mor':12.36},{'country':'Tuvalu','infant_mor':31.69},{'country':'Vanuatu','infant_mor':16.41},{'country':'Wallis and Futuna','infant_mor':4.49},{'country':'Samoa','infant_mor':20.5},{'country':'Argentina','infant_mor':9.96},{'country':'Bolivia','infant_mor':38.61},{'country':'Brazil','infant_mor':19.21},{'country':'Chile','infant_mor':7.02},{'country':'Paraguay','infant_mor':20.75},{'country':'Uruguay','infant_mor':8.97},{'country':'Peru','infant_mor':20.21},{'country':'French Guiana','infant_mor':14.6},{'country':'Guyana','infant_mor':33.56},{'country':'Suriname','infant_mor':27.07},{'country':'Venezuela','infant_mor':19.33},{'country':'Ecuador','infant_mor':17.93},{'country':'Algeria','infant_mor':21.76},{'country':'Libya','infant_mor':11.87},{'country':'Mali','infant_mor':104.34},{'country':'Mauritania','infant_mor':56.06},{'country':'Morocco','infant_mor':24.52},{'country':'Niger','infant_mor':86.27},{'country':'Tunisia','infant_mor':23.19},{'country':'Western Sahara','infant_mor':145.82},{'country':'Angola','infant_mor':79.99},{'country':'Congo','infant_mor':59.34},{'country':'Namibia','infant_mor':45.64},{'country':'Zaire','infant_mor':73.15},{'country':'Zambia','infant_mor':66.62},{'country':'Benin','infant_mor':57.09},{'country':'Burkina Faso','infant_mor':76.8},{'country':'Nigeria','infant_mor':74.09},{'country':'Togo','infant_mor':46.73},{'country':'Botswana','infant_mor':9.38},{'country':'South Africa','infant_mor':41.61},{'country':'Zimbabwe','infant_mor':26.55},{'country':'Cote dIvoire','infant_mor':60.16},{'country':'Ghana','infant_mor':38.52},{'country':'Burundi','infant_mor':63.44},{'country':'Rwanda','infant_mor':59.59},{'country':'Tanzania','infant_mor':43.74},{'country':'Cameroon','infant_mor':55.1},{'country':'Central African Republic','infant_mor':92.86},{'country':'Chad','infant_mor':90.3},{'country':'Equatorial Guinea','infant_mor':71.12},{'country':'Gabon','infant_mor':47.03},{'country':'Cape Verde','infant_mor':24.28},{'country':'Sudan','infant_mor':52.86},{'country':'South Sudan','infant_mor':68.16},{'country':'Comoros','infant_mor':65.31},{'country':'Guinea','infant_mor':55.24},{'country':'Liberia','infant_mor':69.19},{'country':'Djibouti','infant_mor':50.2},{'country':'Eritrea','infant_mor':38.44},{'country':'Ethiopia','infant_mor':55.77},{'country':'Somalia','infant_mor':100.14},{'country':'Kenya','infant_mor':40.71},{'country':'Gambia','infant_mor':65.74},{'country':'Senegal','infant_mor':52.72},{'country':'Guinea-Bissau','infant_mor':90.92},{'country':'Sierra Leone','infant_mor':73.29},{'country':'Uganda','infant_mor':60.82},{'country':'Lesotho','infant_mor':50.48},{'country':'Madagascar','infant_mor':44.88},{'country':'Malawi','infant_mor':48.01},{'country':'Mozambique','infant_mor':72.42},{'country':'Mauritius','infant_mor':10.59},{'country':'Mayotte','infant_mor':56.29},{'country':'Swaziland','infant_mor':54.82},{'country':'Reunion','infant_mor':7.5},{'country':'Saint Helena','infant_mor':17.63},{'country':'Sao Tome and Principe','infant_mor':49.16},{'country':'Seychelles','infant_mor':10.77},]"
   ]
  },
  {
   "cell_type": "code",
   "execution_count": 41,
   "metadata": {
    "collapsed": false
   },
   "outputs": [
    {
     "ename": "PandasError",
     "evalue": "DataFrame constructor not properly called!",
     "output_type": "error",
     "traceback": [
      "\u001b[0;31m---------------------------------------------------------------------------\u001b[0m",
      "\u001b[0;31mPandasError\u001b[0m                               Traceback (most recent call last)",
      "\u001b[0;32m<ipython-input-41-f8af94811a44>\u001b[0m in \u001b[0;36m<module>\u001b[0;34m()\u001b[0m\n\u001b[0;32m----> 1\u001b[0;31m \u001b[0mh\u001b[0m \u001b[0;34m=\u001b[0m \u001b[0mpd\u001b[0m\u001b[0;34m.\u001b[0m\u001b[0mDataFrame\u001b[0m\u001b[0;34m(\u001b[0m\u001b[0mcountry\u001b[0m\u001b[0;34m)\u001b[0m\u001b[0;34m\u001b[0m\u001b[0m\n\u001b[0m",
      "\u001b[0;32m//anaconda/lib/python2.7/site-packages/pandas/core/frame.pyc\u001b[0m in \u001b[0;36m__init__\u001b[0;34m(self, data, index, columns, dtype, copy)\u001b[0m\n\u001b[1;32m    343\u001b[0m                                          copy=False)\n\u001b[1;32m    344\u001b[0m             \u001b[0;32melse\u001b[0m\u001b[0;34m:\u001b[0m\u001b[0;34m\u001b[0m\u001b[0m\n\u001b[0;32m--> 345\u001b[0;31m                 \u001b[0;32mraise\u001b[0m \u001b[0mPandasError\u001b[0m\u001b[0;34m(\u001b[0m\u001b[0;34m'DataFrame constructor not properly called!'\u001b[0m\u001b[0;34m)\u001b[0m\u001b[0;34m\u001b[0m\u001b[0m\n\u001b[0m\u001b[1;32m    346\u001b[0m \u001b[0;34m\u001b[0m\u001b[0m\n\u001b[1;32m    347\u001b[0m         \u001b[0mNDFrame\u001b[0m\u001b[0;34m.\u001b[0m\u001b[0m__init__\u001b[0m\u001b[0;34m(\u001b[0m\u001b[0mself\u001b[0m\u001b[0;34m,\u001b[0m \u001b[0mmgr\u001b[0m\u001b[0;34m,\u001b[0m \u001b[0mfastpath\u001b[0m\u001b[0;34m=\u001b[0m\u001b[0mTrue\u001b[0m\u001b[0;34m)\u001b[0m\u001b[0;34m\u001b[0m\u001b[0m\n",
      "\u001b[0;31mPandasError\u001b[0m: DataFrame constructor not properly called!"
     ]
    }
   ],
   "source": [
    "h = pd.DataFrame(country)"
   ]
  },
  {
   "cell_type": "code",
   "execution_count": 42,
   "metadata": {
    "collapsed": false
   },
   "outputs": [
    {
     "data": {
      "text/plain": [
       "list"
      ]
     },
     "execution_count": 42,
     "metadata": {},
     "output_type": "execute_result"
    }
   ],
   "source": [
    "type(country_sub)"
   ]
  },
  {
   "cell_type": "code",
   "execution_count": 43,
   "metadata": {
    "collapsed": false
   },
   "outputs": [],
   "source": [
    "c=[]\n",
    "c=country"
   ]
  },
  {
   "cell_type": "code",
   "execution_count": null,
   "metadata": {
    "collapsed": false
   },
   "outputs": [],
   "source": [
    "c"
   ]
  },
  {
   "cell_type": "code",
   "execution_count": 44,
   "metadata": {
    "collapsed": false
   },
   "outputs": [
    {
     "ename": "ValueError",
     "evalue": "Expecting property name: line 1 column 2 (char 1)",
     "output_type": "error",
     "traceback": [
      "\u001b[0;31m---------------------------------------------------------------------------\u001b[0m",
      "\u001b[0;31mValueError\u001b[0m                                Traceback (most recent call last)",
      "\u001b[0;32m<ipython-input-44-38e1bdf3cdc9>\u001b[0m in \u001b[0;36m<module>\u001b[0;34m()\u001b[0m\n\u001b[1;32m      1\u001b[0m \u001b[0;32mimport\u001b[0m \u001b[0mjson\u001b[0m\u001b[0;34m\u001b[0m\u001b[0m\n\u001b[0;32m----> 2\u001b[0;31m \u001b[0mjson1_data\u001b[0m \u001b[0;34m=\u001b[0m \u001b[0mjson\u001b[0m\u001b[0;34m.\u001b[0m\u001b[0mloads\u001b[0m\u001b[0;34m(\u001b[0m\u001b[0mcountry\u001b[0m\u001b[0;34m)\u001b[0m\u001b[0;34m\u001b[0m\u001b[0m\n\u001b[0m",
      "\u001b[0;32m//anaconda/lib/python2.7/json/__init__.pyc\u001b[0m in \u001b[0;36mloads\u001b[0;34m(s, encoding, cls, object_hook, parse_float, parse_int, parse_constant, object_pairs_hook, **kw)\u001b[0m\n\u001b[1;32m    337\u001b[0m             \u001b[0mparse_int\u001b[0m \u001b[0;32mis\u001b[0m \u001b[0mNone\u001b[0m \u001b[0;32mand\u001b[0m \u001b[0mparse_float\u001b[0m \u001b[0;32mis\u001b[0m \u001b[0mNone\u001b[0m \u001b[0;32mand\u001b[0m\u001b[0;34m\u001b[0m\u001b[0m\n\u001b[1;32m    338\u001b[0m             parse_constant is None and object_pairs_hook is None and not kw):\n\u001b[0;32m--> 339\u001b[0;31m         \u001b[0;32mreturn\u001b[0m \u001b[0m_default_decoder\u001b[0m\u001b[0;34m.\u001b[0m\u001b[0mdecode\u001b[0m\u001b[0;34m(\u001b[0m\u001b[0ms\u001b[0m\u001b[0;34m)\u001b[0m\u001b[0;34m\u001b[0m\u001b[0m\n\u001b[0m\u001b[1;32m    340\u001b[0m     \u001b[0;32mif\u001b[0m \u001b[0mcls\u001b[0m \u001b[0;32mis\u001b[0m \u001b[0mNone\u001b[0m\u001b[0;34m:\u001b[0m\u001b[0;34m\u001b[0m\u001b[0m\n\u001b[1;32m    341\u001b[0m         \u001b[0mcls\u001b[0m \u001b[0;34m=\u001b[0m \u001b[0mJSONDecoder\u001b[0m\u001b[0;34m\u001b[0m\u001b[0m\n",
      "\u001b[0;32m//anaconda/lib/python2.7/json/decoder.pyc\u001b[0m in \u001b[0;36mdecode\u001b[0;34m(self, s, _w)\u001b[0m\n\u001b[1;32m    362\u001b[0m \u001b[0;34m\u001b[0m\u001b[0m\n\u001b[1;32m    363\u001b[0m         \"\"\"\n\u001b[0;32m--> 364\u001b[0;31m         \u001b[0mobj\u001b[0m\u001b[0;34m,\u001b[0m \u001b[0mend\u001b[0m \u001b[0;34m=\u001b[0m \u001b[0mself\u001b[0m\u001b[0;34m.\u001b[0m\u001b[0mraw_decode\u001b[0m\u001b[0;34m(\u001b[0m\u001b[0ms\u001b[0m\u001b[0;34m,\u001b[0m \u001b[0midx\u001b[0m\u001b[0;34m=\u001b[0m\u001b[0m_w\u001b[0m\u001b[0;34m(\u001b[0m\u001b[0ms\u001b[0m\u001b[0;34m,\u001b[0m \u001b[0;36m0\u001b[0m\u001b[0;34m)\u001b[0m\u001b[0;34m.\u001b[0m\u001b[0mend\u001b[0m\u001b[0;34m(\u001b[0m\u001b[0;34m)\u001b[0m\u001b[0;34m)\u001b[0m\u001b[0;34m\u001b[0m\u001b[0m\n\u001b[0m\u001b[1;32m    365\u001b[0m         \u001b[0mend\u001b[0m \u001b[0;34m=\u001b[0m \u001b[0m_w\u001b[0m\u001b[0;34m(\u001b[0m\u001b[0ms\u001b[0m\u001b[0;34m,\u001b[0m \u001b[0mend\u001b[0m\u001b[0;34m)\u001b[0m\u001b[0;34m.\u001b[0m\u001b[0mend\u001b[0m\u001b[0;34m(\u001b[0m\u001b[0;34m)\u001b[0m\u001b[0;34m\u001b[0m\u001b[0m\n\u001b[1;32m    366\u001b[0m         \u001b[0;32mif\u001b[0m \u001b[0mend\u001b[0m \u001b[0;34m!=\u001b[0m \u001b[0mlen\u001b[0m\u001b[0;34m(\u001b[0m\u001b[0ms\u001b[0m\u001b[0;34m)\u001b[0m\u001b[0;34m:\u001b[0m\u001b[0;34m\u001b[0m\u001b[0m\n",
      "\u001b[0;32m//anaconda/lib/python2.7/json/decoder.pyc\u001b[0m in \u001b[0;36mraw_decode\u001b[0;34m(self, s, idx)\u001b[0m\n\u001b[1;32m    378\u001b[0m         \"\"\"\n\u001b[1;32m    379\u001b[0m         \u001b[0;32mtry\u001b[0m\u001b[0;34m:\u001b[0m\u001b[0;34m\u001b[0m\u001b[0m\n\u001b[0;32m--> 380\u001b[0;31m             \u001b[0mobj\u001b[0m\u001b[0;34m,\u001b[0m \u001b[0mend\u001b[0m \u001b[0;34m=\u001b[0m \u001b[0mself\u001b[0m\u001b[0;34m.\u001b[0m\u001b[0mscan_once\u001b[0m\u001b[0;34m(\u001b[0m\u001b[0ms\u001b[0m\u001b[0;34m,\u001b[0m \u001b[0midx\u001b[0m\u001b[0;34m)\u001b[0m\u001b[0;34m\u001b[0m\u001b[0m\n\u001b[0m\u001b[1;32m    381\u001b[0m         \u001b[0;32mexcept\u001b[0m \u001b[0mStopIteration\u001b[0m\u001b[0;34m:\u001b[0m\u001b[0;34m\u001b[0m\u001b[0m\n\u001b[1;32m    382\u001b[0m             \u001b[0;32mraise\u001b[0m \u001b[0mValueError\u001b[0m\u001b[0;34m(\u001b[0m\u001b[0;34m\"No JSON object could be decoded\"\u001b[0m\u001b[0;34m)\u001b[0m\u001b[0;34m\u001b[0m\u001b[0m\n",
      "\u001b[0;31mValueError\u001b[0m: Expecting property name: line 1 column 2 (char 1)"
     ]
    }
   ],
   "source": [
    "import json\n",
    "json1_data = json.loads(country)"
   ]
  },
  {
   "cell_type": "code",
   "execution_count": 45,
   "metadata": {
    "collapsed": false
   },
   "outputs": [
    {
     "data": {
      "text/plain": [
       "[\"{'Albania':13.19\",\n",
       " \"'Greece':4.78\",\n",
       " \"'Macedonia':7.9\",\n",
       " \"'Serbia':6.16\",\n",
       " \"'Andorra':3.69\",\n",
       " \"'France':3.31\",\n",
       " \"'Spain':3.33\",\n",
       " \"'Austria':4.16\",\n",
       " \"'Czech Republic':2.63\",\n",
       " \"'Germany':3.46\",\n",
       " \"'Hungary':5.09\",\n",
       " \"'Italy':3.31\",\n",
       " \"'Liechtenstein':4.33\",\n",
       " \"'Slovakia':5.35\",\n",
       " \"'Slovenia':4.04\",\n",
       " \"'Switzerland':3.73\",\n",
       " \"'Belarus':3.64\",\n",
       " \"'Latvia':7.91\",\n",
       " \"'Lithuania':6\",\n",
       " \"'Poland':6.19\",\n",
       " \"'Ukraine':8.1\",\n",
       " \"'Russia':7.08\",\n",
       " \"'Belgium':4.18\",\n",
       " \"'Luxembourg':4.28\",\n",
       " \"'Netherlands':3.66\",\n",
       " \"'Bosnia and Herzegovina':5.84\",\n",
       " \"'Croatia':5.87\",\n",
       " \"'Bulgaria':15.08\",\n",
       " \"'Romania':10.16\",\n",
       " \"'Turkey':21.43\",\n",
       " \"'Denmark':4.1\",\n",
       " \"'Estonia':6.7\",\n",
       " \"'Faroe Islands':5.71\",\n",
       " \"'Finland':3.36\",\n",
       " \"'Norway':2.48\",\n",
       " \"'Sweden':2.6\",\n",
       " \"'Monaco':1.81\",\n",
       " \"'Gibraltar':6.29\",\n",
       " \"'Guernsey':3.47\",\n",
       " \"'Iceland':3.15\",\n",
       " \"'Ireland':3.74\",\n",
       " \"'San Marino':4.52\",\n",
       " \"'Jersey':3.86\",\n",
       " \"'Malta':3.59\",\n",
       " \"'Isle of Man':4.17\",\n",
       " \"'Moldova':12.93\",\n",
       " \"'Portugal':4.48\",\n",
       " \"'United Kingdom':4.44\",\n",
       " \"'Afghanistan':117.23\",\n",
       " \"'China':14.79\",\n",
       " \"'Iran':39\",\n",
       " \"'Pakistan':57.48\",\n",
       " \"'Tajikistan':35.03\",\n",
       " \"'Turkmenistan':38.13\",\n",
       " \"'Uzbekistan':19.84\",\n",
       " \"'Armenia':13.97\",\n",
       " \"'Georgia':16.68\",\n",
       " \"'Azerbaijan':26.67\",\n",
       " \"'Bahrain':9.68\",\n",
       " \"'Bangladesh':45.67\",\n",
       " \"'Myanmar':44.91\",\n",
       " \"'India':43.19\",\n",
       " \"'Bhutan':37.89\",\n",
       " \"'Brunei':10.48\",\n",
       " \"'Malaysia':13.69\",\n",
       " \"'Laos':54.53\",\n",
       " \"'Thailand':9.86\",\n",
       " \"'Cambodia':51.36\",\n",
       " \"'Vietnam':18.99\",\n",
       " \"'Kazakhstan':21.61\",\n",
       " \"'North Korea':24.5\",\n",
       " \"'Kyrgyzstan':28.71\",\n",
       " \"'Hong Kong':2.73\",\n",
       " \"'Macao':3.13\",\n",
       " \"'Mongolia':23.15\",\n",
       " \"'Nepal':40.43\",\n",
       " \"'Cyprus':8.54\",\n",
       " \"'Gaza Strip':30.6\",\n",
       " \"'Israel':3.98\",\n",
       " \"'Egypt':22.41\",\n",
       " \"'Indonesia':25.16\",\n",
       " \"'Timor-Leste':38.79\",\n",
       " \"'Papua New Guinea':39.67\",\n",
       " \"'Iraq':37.53\",\n",
       " \"'Jordan':15.73\",\n",
       " \"'Kuwait':7.51\",\n",
       " \"'Saudi Arabia':14.58\",\n",
       " \"'Syria':15.79\",\n",
       " \"'Lebanon':7.98\",\n",
       " \"'West Bank':28.6\",\n",
       " \"'Japan':2.13\",\n",
       " \"'South Korea':3.93\",\n",
       " \"'Maldives':24.59\",\n",
       " \"'Oman':14\",\n",
       " \"'United Arab Emirates':10.92\",\n",
       " \"'Yemen':50.41\",\n",
       " \"'Philippines':17.64\",\n",
       " \"'Qatar':6.42\",\n",
       " \"'Singapore':2.53\",\n",
       " \"'Sri Lanka':9.02\",\n",
       " \"'Taiwan':4.49\",\n",
       " \"'Anguilla':3.4\",\n",
       " \"'Antigua and Barbuda':13.29\",\n",
       " \"'Aruba':11.74\",\n",
       " \"'Bahamas':12.5\",\n",
       " \"'Barbados':10.93\",\n",
       " \"'Belize':20.31\",\n",
       " \"'Guatemala':23.51\",\n",
       " \"'Mexico':12.58\",\n",
       " \"'Bermuda':2.48\",\n",
       " \"'British Virgin Islands':13.45\",\n",
       " \"'Canada':4.71\",\n",
       " \"'United States':6.17\",\n",
       " \"'Cayman Islands':6.21\",\n",
       " \"'Costa Rica':8.7\",\n",
       " \"'Nicaragua':20.36\",\n",
       " \"'Panama':10.7\",\n",
       " \"'Cuba':4.7\",\n",
       " \"'Dominica':11.61\",\n",
       " \"'Dominican Republic':19.63\",\n",
       " \"'Haiti':49.43\",\n",
       " \"'El Salvador':18.44\",\n",
       " \"'Honduras':18.72\",\n",
       " \"'Greenland':9.42\",\n",
       " \"'Grenada':10.5\",\n",
       " \"'Guadeloupe':8.3\",\n",
       " \"'Jamaica':13.69\",\n",
       " \"'Martinique':7.1\",\n",
       " \"'Montserrat':13.66\",\n",
       " \"'Sint Maarten':9.05\",\n",
       " \"'Colombia':15.02\",\n",
       " \"'Puerto Rico':7.73\",\n",
       " \"'Saint Kitts and Nevis':8.98\",\n",
       " \"'Saint Lucia':11.75\",\n",
       " \"'Saint Pierre and Miquelon':6.95\",\n",
       " \"'Saint Vincent and the Grenadines':13.07\",\n",
       " \"'Trinidad and Tobago':24.82\",\n",
       " \"'Turks and Caicos Islands':10.97\",\n",
       " \"'Virgin Islands':6.79\",\n",
       " \"'American Samoa':8.92\",\n",
       " \"'Australia':4.43\",\n",
       " \"'Cook Islands':14.33\",\n",
       " \"'Fiji':10.2\",\n",
       " \"'French Polynesia':4.78\",\n",
       " \"'Guam':5.51\",\n",
       " \"'Kiribati':35.37\",\n",
       " \"'Marshall Islands':21.39\",\n",
       " \"'Micronesia':21.93\",\n",
       " \"'Nauru':8.21\",\n",
       " \"'New Caledonia':5.46\",\n",
       " \"'New Zealand':4.59\",\n",
       " \"'Northern Mariana Islands':5.5\",\n",
       " \"'Palau':11.46\",\n",
       " \"'Solomon Islands':16.17\",\n",
       " \"'Tonga':12.36\",\n",
       " \"'Tuvalu':31.69\",\n",
       " \"'Vanuatu':16.41\",\n",
       " \"'Wallis and Futuna':4.49\",\n",
       " \"'Samoa':20.5\",\n",
       " \"'Argentina':9.96\",\n",
       " \"'Bolivia':38.61\",\n",
       " \"'Brazil':19.21\",\n",
       " \"'Chile':7.02\",\n",
       " \"'Paraguay':20.75\",\n",
       " \"'Uruguay':8.97\",\n",
       " \"'Peru':20.21\",\n",
       " \"'French Guiana':14.6\",\n",
       " \"'Guyana':33.56\",\n",
       " \"'Suriname':27.07\",\n",
       " \"'Venezuela':19.33\",\n",
       " \"'Ecuador':17.93\",\n",
       " \"'Algeria':21.76\",\n",
       " \"'Libya':11.87\",\n",
       " \"'Mali':104.34\",\n",
       " \"'Mauritania':56.06\",\n",
       " \"'Morocco':24.52\",\n",
       " \"'Niger':86.27\",\n",
       " \"'Tunisia':23.19\",\n",
       " \"'Western Sahara':145.82\",\n",
       " \"'Angola':79.99\",\n",
       " \"'Congo':59.34\",\n",
       " \"'Namibia':45.64\",\n",
       " \"'Zaire':73.15\",\n",
       " \"'Zambia':66.62\",\n",
       " \"'Benin':57.09\",\n",
       " \"'Burkina Faso':76.8\",\n",
       " \"'Nigeria':74.09\",\n",
       " \"'Togo':46.73\",\n",
       " \"'Botswana':9.38\",\n",
       " \"'South Africa':41.61\",\n",
       " \"'Zimbabwe':26.55\",\n",
       " \"'Cote dIvoire':60.16\",\n",
       " \"'Ghana':38.52\",\n",
       " \"'Burundi':63.44\",\n",
       " \"'Rwanda':59.59\",\n",
       " \"'Tanzania':43.74\",\n",
       " \"'Cameroon':55.1\",\n",
       " \"'Central African Republic':92.86\",\n",
       " \"'Chad':90.3\",\n",
       " \"'Equatorial Guinea':71.12\",\n",
       " \"'Gabon':47.03\",\n",
       " \"'Cape Verde':24.28\",\n",
       " \"'Sudan':52.86\",\n",
       " \"'South Sudan':68.16\",\n",
       " \"'Comoros':65.31\",\n",
       " \"'Guinea':55.24\",\n",
       " \"'Liberia':69.19\",\n",
       " \"'Djibouti':50.2\",\n",
       " \"'Eritrea':38.44\",\n",
       " \"'Ethiopia':55.77\",\n",
       " \"'Somalia':100.14\",\n",
       " \"'Kenya':40.71\",\n",
       " \"'Gambia':65.74\",\n",
       " \"'Senegal':52.72\",\n",
       " \"'Guinea-Bissau':90.92\",\n",
       " \"'Sierra Leone':73.29\",\n",
       " \"'Uganda':60.82\",\n",
       " \"'Lesotho':50.48\",\n",
       " \"'Madagascar':44.88\",\n",
       " \"'Malawi':48.01\",\n",
       " \"'Mozambique':72.42\",\n",
       " \"'Mauritius':10.59\",\n",
       " \"'Mayotte':56.29\",\n",
       " \"'Swaziland':54.82\",\n",
       " \"'Reunion':7.5\",\n",
       " \"'Saint Helena':17.63\",\n",
       " \"'Sao Tome and Principe':49.16\",\n",
       " \"'Seychelles':10.77\",\n",
       " '}']"
      ]
     },
     "execution_count": 45,
     "metadata": {},
     "output_type": "execute_result"
    }
   ],
   "source": [
    "array = country.split(';')\n",
    "array"
   ]
  },
  {
   "cell_type": "code",
   "execution_count": 227,
   "metadata": {
    "collapsed": false
   },
   "outputs": [
    {
     "ename": "AttributeError",
     "evalue": "'module' object has no attribute 'to_dict'",
     "output_type": "error",
     "traceback": [
      "\u001b[0;31m---------------------------------------------------------------------------\u001b[0m",
      "\u001b[0;31mAttributeError\u001b[0m                            Traceback (most recent call last)",
      "\u001b[0;32m<ipython-input-227-a04d33b501a3>\u001b[0m in \u001b[0;36m<module>\u001b[0;34m()\u001b[0m\n\u001b[0;32m----> 1\u001b[0;31m \u001b[0mdf\u001b[0m \u001b[0;34m=\u001b[0m \u001b[0mpd\u001b[0m\u001b[0;34m.\u001b[0m\u001b[0mto_dict\u001b[0m\u001b[0;34m(\u001b[0m\u001b[0marray\u001b[0m\u001b[0;34m)\u001b[0m\u001b[0;34m\u001b[0m\u001b[0m\n\u001b[0m\u001b[1;32m      2\u001b[0m \u001b[0mget_ipython\u001b[0m\u001b[0;34m(\u001b[0m\u001b[0;34m)\u001b[0m\u001b[0;34m.\u001b[0m\u001b[0mmagic\u001b[0m\u001b[0;34m(\u001b[0m\u001b[0;34mu'pinfo to_dict'\u001b[0m\u001b[0;34m)\u001b[0m\u001b[0;34m\u001b[0m\u001b[0m\n",
      "\u001b[0;31mAttributeError\u001b[0m: 'module' object has no attribute 'to_dict'"
     ]
    }
   ],
   "source": [
    "df = pd.to_dict(array)\n"
   ]
  },
  {
   "cell_type": "code",
   "execution_count": 232,
   "metadata": {
    "collapsed": false
   },
   "outputs": [
    {
     "data": {
      "text/plain": [
       "dict"
      ]
     },
     "execution_count": 232,
     "metadata": {},
     "output_type": "execute_result"
    }
   ],
   "source": [
    "d = {'a' : 0., 'b' : 1., 'c' : 2.}\n",
    "type(d)"
   ]
  },
  {
   "cell_type": "code",
   "execution_count": 221,
   "metadata": {
    "collapsed": false
   },
   "outputs": [
    {
     "data": {
      "text/plain": [
       "0    {'Albania':13.19;'Greece':4.78;'Macedonia':7.9...\n",
       "dtype: object"
      ]
     },
     "execution_count": 221,
     "metadata": {},
     "output_type": "execute_result"
    }
   ],
   "source": [
    "t=pd.Series(country)\n",
    "t"
   ]
  },
  {
   "cell_type": "code",
   "execution_count": 176,
   "metadata": {
    "collapsed": false
   },
   "outputs": [
    {
     "data": {
      "text/html": [
       "<div>\n",
       "<table border=\"1\" class=\"dataframe\">\n",
       "  <thead>\n",
       "    <tr style=\"text-align: right;\">\n",
       "      <th></th>\n",
       "      <th>0</th>\n",
       "    </tr>\n",
       "  </thead>\n",
       "  <tbody>\n",
       "    <tr>\n",
       "      <th>0</th>\n",
       "      <td>['country':'Albania'</td>\n",
       "    </tr>\n",
       "    <tr>\n",
       "      <th>1</th>\n",
       "      <td>'infant_mor':13.19</td>\n",
       "    </tr>\n",
       "    <tr>\n",
       "      <th>2</th>\n",
       "      <td>'country':'Greece'</td>\n",
       "    </tr>\n",
       "    <tr>\n",
       "      <th>3</th>\n",
       "      <td>'infant_mor':4.78</td>\n",
       "    </tr>\n",
       "    <tr>\n",
       "      <th>4</th>\n",
       "      <td>'country':'Macedonia'</td>\n",
       "    </tr>\n",
       "    <tr>\n",
       "      <th>5</th>\n",
       "      <td>'infant_mor':7.9</td>\n",
       "    </tr>\n",
       "    <tr>\n",
       "      <th>6</th>\n",
       "      <td>'country':'Serbia'</td>\n",
       "    </tr>\n",
       "    <tr>\n",
       "      <th>7</th>\n",
       "      <td>'infant_mor':6.16</td>\n",
       "    </tr>\n",
       "    <tr>\n",
       "      <th>8</th>\n",
       "      <td>'country':'Andorra'</td>\n",
       "    </tr>\n",
       "    <tr>\n",
       "      <th>9</th>\n",
       "      <td>'infant_mor':3.69</td>\n",
       "    </tr>\n",
       "    <tr>\n",
       "      <th>10</th>\n",
       "      <td>'country':'France'</td>\n",
       "    </tr>\n",
       "    <tr>\n",
       "      <th>11</th>\n",
       "      <td>'infant_mor':3.31</td>\n",
       "    </tr>\n",
       "    <tr>\n",
       "      <th>12</th>\n",
       "      <td>'country':'Spain'</td>\n",
       "    </tr>\n",
       "    <tr>\n",
       "      <th>13</th>\n",
       "      <td>'infant_mor':3.33</td>\n",
       "    </tr>\n",
       "    <tr>\n",
       "      <th>14</th>\n",
       "      <td>'country':'Austria'</td>\n",
       "    </tr>\n",
       "    <tr>\n",
       "      <th>15</th>\n",
       "      <td>'infant_mor':4.16</td>\n",
       "    </tr>\n",
       "    <tr>\n",
       "      <th>16</th>\n",
       "      <td>'country':'Czech Republic'</td>\n",
       "    </tr>\n",
       "    <tr>\n",
       "      <th>17</th>\n",
       "      <td>'infant_mor':2.63</td>\n",
       "    </tr>\n",
       "    <tr>\n",
       "      <th>18</th>\n",
       "      <td>'country':'Germany'</td>\n",
       "    </tr>\n",
       "    <tr>\n",
       "      <th>19</th>\n",
       "      <td>'infant_mor':3.46</td>\n",
       "    </tr>\n",
       "    <tr>\n",
       "      <th>20</th>\n",
       "      <td>'country':'Hungary'</td>\n",
       "    </tr>\n",
       "    <tr>\n",
       "      <th>21</th>\n",
       "      <td>'infant_mor':5.09</td>\n",
       "    </tr>\n",
       "    <tr>\n",
       "      <th>22</th>\n",
       "      <td>'country':'Italy'</td>\n",
       "    </tr>\n",
       "    <tr>\n",
       "      <th>23</th>\n",
       "      <td>'infant_mor':3.31</td>\n",
       "    </tr>\n",
       "    <tr>\n",
       "      <th>24</th>\n",
       "      <td>'country':'Liechtenstein'</td>\n",
       "    </tr>\n",
       "    <tr>\n",
       "      <th>25</th>\n",
       "      <td>'infant_mor':4.33</td>\n",
       "    </tr>\n",
       "    <tr>\n",
       "      <th>26</th>\n",
       "      <td>'country':'Slovakia'</td>\n",
       "    </tr>\n",
       "    <tr>\n",
       "      <th>27</th>\n",
       "      <td>'infant_mor':5.35</td>\n",
       "    </tr>\n",
       "    <tr>\n",
       "      <th>28</th>\n",
       "      <td>'country':'Slovenia'</td>\n",
       "    </tr>\n",
       "    <tr>\n",
       "      <th>29</th>\n",
       "      <td>'infant_mor':4.04</td>\n",
       "    </tr>\n",
       "    <tr>\n",
       "      <th>...</th>\n",
       "      <td>...</td>\n",
       "    </tr>\n",
       "    <tr>\n",
       "      <th>427</th>\n",
       "      <td>'infant_mor':52.72</td>\n",
       "    </tr>\n",
       "    <tr>\n",
       "      <th>428</th>\n",
       "      <td>'country':'Guinea-Bissau'</td>\n",
       "    </tr>\n",
       "    <tr>\n",
       "      <th>429</th>\n",
       "      <td>'infant_mor':90.92</td>\n",
       "    </tr>\n",
       "    <tr>\n",
       "      <th>430</th>\n",
       "      <td>'country':'Sierra Leone'</td>\n",
       "    </tr>\n",
       "    <tr>\n",
       "      <th>431</th>\n",
       "      <td>'infant_mor':73.29</td>\n",
       "    </tr>\n",
       "    <tr>\n",
       "      <th>432</th>\n",
       "      <td>'country':'Uganda'</td>\n",
       "    </tr>\n",
       "    <tr>\n",
       "      <th>433</th>\n",
       "      <td>'infant_mor':60.82</td>\n",
       "    </tr>\n",
       "    <tr>\n",
       "      <th>434</th>\n",
       "      <td>'country':'Lesotho'</td>\n",
       "    </tr>\n",
       "    <tr>\n",
       "      <th>435</th>\n",
       "      <td>'infant_mor':50.48</td>\n",
       "    </tr>\n",
       "    <tr>\n",
       "      <th>436</th>\n",
       "      <td>'country':'Madagascar'</td>\n",
       "    </tr>\n",
       "    <tr>\n",
       "      <th>437</th>\n",
       "      <td>'infant_mor':44.88</td>\n",
       "    </tr>\n",
       "    <tr>\n",
       "      <th>438</th>\n",
       "      <td>'country':'Malawi'</td>\n",
       "    </tr>\n",
       "    <tr>\n",
       "      <th>439</th>\n",
       "      <td>'infant_mor':48.01</td>\n",
       "    </tr>\n",
       "    <tr>\n",
       "      <th>440</th>\n",
       "      <td>'country':'Mozambique'</td>\n",
       "    </tr>\n",
       "    <tr>\n",
       "      <th>441</th>\n",
       "      <td>'infant_mor':72.42</td>\n",
       "    </tr>\n",
       "    <tr>\n",
       "      <th>442</th>\n",
       "      <td>'country':'Mauritius'</td>\n",
       "    </tr>\n",
       "    <tr>\n",
       "      <th>443</th>\n",
       "      <td>'infant_mor':10.59</td>\n",
       "    </tr>\n",
       "    <tr>\n",
       "      <th>444</th>\n",
       "      <td>'country':'Mayotte'</td>\n",
       "    </tr>\n",
       "    <tr>\n",
       "      <th>445</th>\n",
       "      <td>'infant_mor':56.29</td>\n",
       "    </tr>\n",
       "    <tr>\n",
       "      <th>446</th>\n",
       "      <td>'country':'Swaziland'</td>\n",
       "    </tr>\n",
       "    <tr>\n",
       "      <th>447</th>\n",
       "      <td>'infant_mor':54.82</td>\n",
       "    </tr>\n",
       "    <tr>\n",
       "      <th>448</th>\n",
       "      <td>'country':'Reunion'</td>\n",
       "    </tr>\n",
       "    <tr>\n",
       "      <th>449</th>\n",
       "      <td>'infant_mor':7.5</td>\n",
       "    </tr>\n",
       "    <tr>\n",
       "      <th>450</th>\n",
       "      <td>'country':'Saint Helena'</td>\n",
       "    </tr>\n",
       "    <tr>\n",
       "      <th>451</th>\n",
       "      <td>'infant_mor':17.63</td>\n",
       "    </tr>\n",
       "    <tr>\n",
       "      <th>452</th>\n",
       "      <td>'country':'Sao Tome and Principe'</td>\n",
       "    </tr>\n",
       "    <tr>\n",
       "      <th>453</th>\n",
       "      <td>'infant_mor':49.16</td>\n",
       "    </tr>\n",
       "    <tr>\n",
       "      <th>454</th>\n",
       "      <td>'country':'Seychelles'</td>\n",
       "    </tr>\n",
       "    <tr>\n",
       "      <th>455</th>\n",
       "      <td>'infant_mor':10.77</td>\n",
       "    </tr>\n",
       "    <tr>\n",
       "      <th>456</th>\n",
       "      <td>]</td>\n",
       "    </tr>\n",
       "  </tbody>\n",
       "</table>\n",
       "<p>457 rows × 1 columns</p>\n",
       "</div>"
      ],
      "text/plain": [
       "                                     0\n",
       "0                 ['country':'Albania'\n",
       "1                   'infant_mor':13.19\n",
       "2                   'country':'Greece'\n",
       "3                    'infant_mor':4.78\n",
       "4                'country':'Macedonia'\n",
       "5                     'infant_mor':7.9\n",
       "6                   'country':'Serbia'\n",
       "7                    'infant_mor':6.16\n",
       "8                  'country':'Andorra'\n",
       "9                    'infant_mor':3.69\n",
       "10                  'country':'France'\n",
       "11                   'infant_mor':3.31\n",
       "12                   'country':'Spain'\n",
       "13                   'infant_mor':3.33\n",
       "14                 'country':'Austria'\n",
       "15                   'infant_mor':4.16\n",
       "16          'country':'Czech Republic'\n",
       "17                   'infant_mor':2.63\n",
       "18                 'country':'Germany'\n",
       "19                   'infant_mor':3.46\n",
       "20                 'country':'Hungary'\n",
       "21                   'infant_mor':5.09\n",
       "22                   'country':'Italy'\n",
       "23                   'infant_mor':3.31\n",
       "24           'country':'Liechtenstein'\n",
       "25                   'infant_mor':4.33\n",
       "26                'country':'Slovakia'\n",
       "27                   'infant_mor':5.35\n",
       "28                'country':'Slovenia'\n",
       "29                   'infant_mor':4.04\n",
       "..                                 ...\n",
       "427                 'infant_mor':52.72\n",
       "428          'country':'Guinea-Bissau'\n",
       "429                 'infant_mor':90.92\n",
       "430           'country':'Sierra Leone'\n",
       "431                 'infant_mor':73.29\n",
       "432                 'country':'Uganda'\n",
       "433                 'infant_mor':60.82\n",
       "434                'country':'Lesotho'\n",
       "435                 'infant_mor':50.48\n",
       "436             'country':'Madagascar'\n",
       "437                 'infant_mor':44.88\n",
       "438                 'country':'Malawi'\n",
       "439                 'infant_mor':48.01\n",
       "440             'country':'Mozambique'\n",
       "441                 'infant_mor':72.42\n",
       "442              'country':'Mauritius'\n",
       "443                 'infant_mor':10.59\n",
       "444                'country':'Mayotte'\n",
       "445                 'infant_mor':56.29\n",
       "446              'country':'Swaziland'\n",
       "447                 'infant_mor':54.82\n",
       "448                'country':'Reunion'\n",
       "449                   'infant_mor':7.5\n",
       "450           'country':'Saint Helena'\n",
       "451                 'infant_mor':17.63\n",
       "452  'country':'Sao Tome and Principe'\n",
       "453                 'infant_mor':49.16\n",
       "454             'country':'Seychelles'\n",
       "455                 'infant_mor':10.77\n",
       "456                                  ]\n",
       "\n",
       "[457 rows x 1 columns]"
      ]
     },
     "execution_count": 176,
     "metadata": {},
     "output_type": "execute_result"
    }
   ],
   "source": [
    "h"
   ]
  },
  {
   "cell_type": "code",
   "execution_count": 170,
   "metadata": {
    "collapsed": false
   },
   "outputs": [
    {
     "data": {
      "text/plain": [
       "']'"
      ]
     },
     "execution_count": 170,
     "metadata": {},
     "output_type": "execute_result"
    }
   ],
   "source": [
    "country[len(country)-2]"
   ]
  },
  {
   "cell_type": "code",
   "execution_count": 171,
   "metadata": {
    "collapsed": true
   },
   "outputs": [],
   "source": [
    "newstr = country.replace(\",]\", \"]\")"
   ]
  },
  {
   "cell_type": "code",
   "execution_count": 173,
   "metadata": {
    "collapsed": false
   },
   "outputs": [
    {
     "ename": "SyntaxError",
     "evalue": "invalid syntax (<unknown>, line 1)",
     "output_type": "error",
     "traceback": [
      "\u001b[0;36m  File \u001b[0;32m\"<unknown>\"\u001b[0;36m, line \u001b[0;32m1\u001b[0m\n\u001b[0;31m    ['country':'Albania','infant_mor':13.19,'country':'Greece','infant_mor':4.78,'country':'Macedonia','infant_mor':7.9,'country':'Serbia','infant_mor':6.16,'country':'Andorra','infant_mor':3.69,'country':'France','infant_mor':3.31,'country':'Spain','infant_mor':3.33,'country':'Austria','infant_mor':4.16,'country':'Czech Republic','infant_mor':2.63,'country':'Germany','infant_mor':3.46,'country':'Hungary','infant_mor':5.09,'country':'Italy','infant_mor':3.31,'country':'Liechtenstein','infant_mor':4.33,'country':'Slovakia','infant_mor':5.35,'country':'Slovenia','infant_mor':4.04,'country':'Switzerland','infant_mor':3.73,'country':'Belarus','infant_mor':3.64,'country':'Latvia','infant_mor':7.91,'country':'Lithuania','infant_mor':6,'country':'Poland','infant_mor':6.19,'country':'Ukraine','infant_mor':8.1,'country':'Russia','infant_mor':7.08,'country':'Belgium','infant_mor':4.18,'country':'Luxembourg','infant_mor':4.28,'country':'Netherlands','infant_mor':3.66,'country':'Bosnia and Herzegovina','infant_mor':5.84,'country':'Croatia','infant_mor':5.87,'country':'Bulgaria','infant_mor':15.08,'country':'Romania','infant_mor':10.16,'country':'Turkey','infant_mor':21.43,'country':'Denmark','infant_mor':4.1,'country':'Estonia','infant_mor':6.7,'country':'Faroe Islands','infant_mor':5.71,'country':'Finland','infant_mor':3.36,'country':'Norway','infant_mor':2.48,'country':'Sweden','infant_mor':2.6,'country':'Monaco','infant_mor':1.81,'country':'Gibraltar','infant_mor':6.29,'country':'Guernsey','infant_mor':3.47,'country':'Iceland','infant_mor':3.15,'country':'Ireland','infant_mor':3.74,'country':'San Marino','infant_mor':4.52,'country':'Jersey','infant_mor':3.86,'country':'Malta','infant_mor':3.59,'country':'Isle of Man','infant_mor':4.17,'country':'Moldova','infant_mor':12.93,'country':'Portugal','infant_mor':4.48,'country':'United Kingdom','infant_mor':4.44,'country':'Afghanistan','infant_mor':117.23,'country':'China','infant_mor':14.79,'country':'Iran','infant_mor':39,'country':'Pakistan','infant_mor':57.48,'country':'Tajikistan','infant_mor':35.03,'country':'Turkmenistan','infant_mor':38.13,'country':'Uzbekistan','infant_mor':19.84,'country':'Armenia','infant_mor':13.97,'country':'Georgia','infant_mor':16.68,'country':'Azerbaijan','infant_mor':26.67,'country':'Bahrain','infant_mor':9.68,'country':'Bangladesh','infant_mor':45.67,'country':'Myanmar','infant_mor':44.91,'country':'India','infant_mor':43.19,'country':'Bhutan','infant_mor':37.89,'country':'Brunei','infant_mor':10.48,'country':'Malaysia','infant_mor':13.69,'country':'Laos','infant_mor':54.53,'country':'Thailand','infant_mor':9.86,'country':'Cambodia','infant_mor':51.36,'country':'Vietnam','infant_mor':18.99,'country':'Kazakhstan','infant_mor':21.61,'country':'North Korea','infant_mor':24.5,'country':'Kyrgyzstan','infant_mor':28.71,'country':'Hong Kong','infant_mor':2.73,'country':'Macao','infant_mor':3.13,'country':'Mongolia','infant_mor':23.15,'country':'Nepal','infant_mor':40.43,'country':'Cyprus','infant_mor':8.54,'country':'Gaza Strip','infant_mor':30.6,'country':'Israel','infant_mor':3.98,'country':'Egypt','infant_mor':22.41,'country':'Indonesia','infant_mor':25.16,'country':'Timor-Leste','infant_mor':38.79,'country':'Papua New Guinea','infant_mor':39.67,'country':'Iraq','infant_mor':37.53,'country':'Jordan','infant_mor':15.73,'country':'Kuwait','infant_mor':7.51,'country':'Saudi Arabia','infant_mor':14.58,'country':'Syria','infant_mor':15.79,'country':'Lebanon','infant_mor':7.98,'country':'West Bank','infant_mor':28.6,'country':'Japan','infant_mor':2.13,'country':'South Korea','infant_mor':3.93,'country':'Maldives','infant_mor':24.59,'country':'Oman','infant_mor':14,'country':'United Arab Emirates','infant_mor':10.92,'country':'Yemen','infant_mor':50.41,'country':'Philippines','infant_mor':17.64,'country':'Qatar','infant_mor':6.42,'country':'Singapore','infant_mor':2.53,'country':'Sri Lanka','infant_mor':9.02,'country':'Taiwan','infant_mor':4.49,'country':'Anguilla','infant_mor':3.4,'country':'Antigua and Barbuda','infant_mor':13.29,'country':'Aruba','infant_mor':11.74,'country':'Bahamas','infant_mor':12.5,'country':'Barbados','infant_mor':10.93,'country':'Belize','infant_mor':20.31,'country':'Guatemala','infant_mor':23.51,'country':'Mexico','infant_mor':12.58,'country':'Bermuda','infant_mor':2.48,'country':'British Virgin Islands','infant_mor':13.45,'country':'Canada','infant_mor':4.71,'country':'United States','infant_mor':6.17,'country':'Cayman Islands','infant_mor':6.21,'country':'Costa Rica','infant_mor':8.7,'country':'Nicaragua','infant_mor':20.36,'country':'Panama','infant_mor':10.7,'country':'Cuba','infant_mor':4.7,'country':'Dominica','infant_mor':11.61,'country':'Dominican Republic','infant_mor':19.63,'country':'Haiti','infant_mor':49.43,'country':'El Salvador','infant_mor':18.44,'country':'Honduras','infant_mor':18.72,'country':'Greenland','infant_mor':9.42,'country':'Grenada','infant_mor':10.5,'country':'Guadeloupe','infant_mor':8.3,'country':'Jamaica','infant_mor':13.69,'country':'Martinique','infant_mor':7.1,'country':'Montserrat','infant_mor':13.66,'country':'Sint Maarten','infant_mor':9.05,'country':'Colombia','infant_mor':15.02,'country':'Puerto Rico','infant_mor':7.73,'country':'Saint Kitts and Nevis','infant_mor':8.98,'country':'Saint Lucia','infant_mor':11.75,'country':'Saint Pierre and Miquelon','infant_mor':6.95,'country':'Saint Vincent and the Grenadines','infant_mor':13.07,'country':'Trinidad and Tobago','infant_mor':24.82,'country':'Turks and Caicos Islands','infant_mor':10.97,'country':'Virgin Islands','infant_mor':6.79,'country':'American Samoa','infant_mor':8.92,'country':'Australia','infant_mor':4.43,'country':'Cook Islands','infant_mor':14.33,'country':'Fiji','infant_mor':10.2,'country':'French Polynesia','infant_mor':4.78,'country':'Guam','infant_mor':5.51,'country':'Kiribati','infant_mor':35.37,'country':'Marshall Islands','infant_mor':21.39,'country':'Micronesia','infant_mor':21.93,'country':'Nauru','infant_mor':8.21,'country':'New Caledonia','infant_mor':5.46,'country':'New Zealand','infant_mor':4.59,'country':'Northern Mariana Islands','infant_mor':5.5,'country':'Palau','infant_mor':11.46,'country':'Solomon Islands','infant_mor':16.17,'country':'Tonga','infant_mor':12.36,'country':'Tuvalu','infant_mor':31.69,'country':'Vanuatu','infant_mor':16.41,'country':'Wallis and Futuna','infant_mor':4.49,'country':'Samoa','infant_mor':20.5,'country':'Argentina','infant_mor':9.96,'country':'Bolivia','infant_mor':38.61,'country':'Brazil','infant_mor':19.21,'country':'Chile','infant_mor':7.02,'country':'Paraguay','infant_mor':20.75,'country':'Uruguay','infant_mor':8.97,'country':'Peru','infant_mor':20.21,'country':'French Guiana','infant_mor':14.6,'country':'Guyana','infant_mor':33.56,'country':'Suriname','infant_mor':27.07,'country':'Venezuela','infant_mor':19.33,'country':'Ecuador','infant_mor':17.93,'country':'Algeria','infant_mor':21.76,'country':'Libya','infant_mor':11.87,'country':'Mali','infant_mor':104.34,'country':'Mauritania','infant_mor':56.06,'country':'Morocco','infant_mor':24.52,'country':'Niger','infant_mor':86.27,'country':'Tunisia','infant_mor':23.19,'country':'Western Sahara','infant_mor':145.82,'country':'Angola','infant_mor':79.99,'country':'Congo','infant_mor':59.34,'country':'Namibia','infant_mor':45.64,'country':'Zaire','infant_mor':73.15,'country':'Zambia','infant_mor':66.62,'country':'Benin','infant_mor':57.09,'country':'Burkina Faso','infant_mor':76.8,'country':'Nigeria','infant_mor':74.09,'country':'Togo','infant_mor':46.73,'country':'Botswana','infant_mor':9.38,'country':'South Africa','infant_mor':41.61,'country':'Zimbabwe','infant_mor':26.55,'country':'Cote dIvoire','infant_mor':60.16,'country':'Ghana','infant_mor':38.52,'country':'Burundi','infant_mor':63.44,'country':'Rwanda','infant_mor':59.59,'country':'Tanzania','infant_mor':43.74,'country':'Cameroon','infant_mor':55.1,'country':'Central African Republic','infant_mor':92.86,'country':'Chad','infant_mor':90.3,'country':'Equatorial Guinea','infant_mor':71.12,'country':'Gabon','infant_mor':47.03,'country':'Cape Verde','infant_mor':24.28,'country':'Sudan','infant_mor':52.86,'country':'South Sudan','infant_mor':68.16,'country':'Comoros','infant_mor':65.31,'country':'Guinea','infant_mor':55.24,'country':'Liberia','infant_mor':69.19,'country':'Djibouti','infant_mor':50.2,'country':'Eritrea','infant_mor':38.44,'country':'Ethiopia','infant_mor':55.77,'country':'Somalia','infant_mor':100.14,'country':'Kenya','infant_mor':40.71,'country':'Gambia','infant_mor':65.74,'country':'Senegal','infant_mor':52.72,'country':'Guinea-Bissau','infant_mor':90.92,'country':'Sierra Leone','infant_mor':73.29,'country':'Uganda','infant_mor':60.82,'country':'Lesotho','infant_mor':50.48,'country':'Madagascar','infant_mor':44.88,'country':'Malawi','infant_mor':48.01,'country':'Mozambique','infant_mor':72.42,'country':'Mauritius','infant_mor':10.59,'country':'Mayotte','infant_mor':56.29,'country':'Swaziland','infant_mor':54.82,'country':'Reunion','infant_mor':7.5,'country':'Saint Helena','infant_mor':17.63,'country':'Sao Tome and Principe','infant_mor':49.16,'country':'Seychelles','infant_mor':10.77]\u001b[0m\n\u001b[0m              ^\u001b[0m\n\u001b[0;31mSyntaxError\u001b[0m\u001b[0;31m:\u001b[0m invalid syntax\n"
     ]
    }
   ],
   "source": []
  },
  {
   "cell_type": "code",
   "execution_count": 46,
   "metadata": {
    "collapsed": false
   },
   "outputs": [
    {
     "ename": "ValueError",
     "evalue": "If using all scalar values, you must pass an index",
     "output_type": "error",
     "traceback": [
      "\u001b[0;31m---------------------------------------------------------------------------\u001b[0m",
      "\u001b[0;31mValueError\u001b[0m                                Traceback (most recent call last)",
      "\u001b[0;32m<ipython-input-46-eb9959107704>\u001b[0m in \u001b[0;36m<module>\u001b[0;34m()\u001b[0m\n\u001b[1;32m      1\u001b[0m \u001b[0mres\u001b[0m \u001b[0;34m=\u001b[0m \u001b[0mpd\u001b[0m\u001b[0;34m.\u001b[0m\u001b[0mDataFrame\u001b[0m\u001b[0;34m(\u001b[0m\u001b[0mcolumns\u001b[0m\u001b[0;34m=\u001b[0m\u001b[0;34m(\u001b[0m\u001b[0;34m'country'\u001b[0m\u001b[0;34m,\u001b[0m \u001b[0;34m'mortality_rate'\u001b[0m\u001b[0;34m)\u001b[0m\u001b[0;34m)\u001b[0m\u001b[0;34m\u001b[0m\u001b[0m\n\u001b[1;32m      2\u001b[0m \u001b[0;31m#res = res.set_values('test',1)\u001b[0m\u001b[0;34m\u001b[0m\u001b[0;34m\u001b[0m\u001b[0m\n\u001b[0;32m----> 3\u001b[0;31m \u001b[0mtemp\u001b[0m \u001b[0;34m=\u001b[0m \u001b[0mpd\u001b[0m\u001b[0;34m.\u001b[0m\u001b[0mDataFrame\u001b[0m\u001b[0;34m(\u001b[0m\u001b[0;34m{\u001b[0m\u001b[0;34m'country'\u001b[0m\u001b[0;34m:\u001b[0m \u001b[0;34m'test'\u001b[0m\u001b[0;34m,\u001b[0m \u001b[0;34m'mortality_rate'\u001b[0m\u001b[0;34m:\u001b[0m \u001b[0;36m1\u001b[0m\u001b[0;34m}\u001b[0m\u001b[0;34m)\u001b[0m\u001b[0;34m\u001b[0m\u001b[0m\n\u001b[0m\u001b[1;32m      4\u001b[0m \u001b[0;34m\u001b[0m\u001b[0m\n\u001b[1;32m      5\u001b[0m \u001b[0mres\u001b[0m \u001b[0;34m=\u001b[0m \u001b[0mpd\u001b[0m\u001b[0;34m.\u001b[0m\u001b[0mconcat\u001b[0m\u001b[0;34m(\u001b[0m\u001b[0;34m[\u001b[0m\u001b[0mres\u001b[0m\u001b[0;34m,\u001b[0m \u001b[0mtemp\u001b[0m\u001b[0;34m]\u001b[0m\u001b[0;34m)\u001b[0m\u001b[0;34m\u001b[0m\u001b[0m\n",
      "\u001b[0;32m//anaconda/lib/python2.7/site-packages/pandas/core/frame.pyc\u001b[0m in \u001b[0;36m__init__\u001b[0;34m(self, data, index, columns, dtype, copy)\u001b[0m\n\u001b[1;32m    264\u001b[0m                                  dtype=dtype, copy=copy)\n\u001b[1;32m    265\u001b[0m         \u001b[0;32melif\u001b[0m \u001b[0misinstance\u001b[0m\u001b[0;34m(\u001b[0m\u001b[0mdata\u001b[0m\u001b[0;34m,\u001b[0m \u001b[0mdict\u001b[0m\u001b[0;34m)\u001b[0m\u001b[0;34m:\u001b[0m\u001b[0;34m\u001b[0m\u001b[0m\n\u001b[0;32m--> 266\u001b[0;31m             \u001b[0mmgr\u001b[0m \u001b[0;34m=\u001b[0m \u001b[0mself\u001b[0m\u001b[0;34m.\u001b[0m\u001b[0m_init_dict\u001b[0m\u001b[0;34m(\u001b[0m\u001b[0mdata\u001b[0m\u001b[0;34m,\u001b[0m \u001b[0mindex\u001b[0m\u001b[0;34m,\u001b[0m \u001b[0mcolumns\u001b[0m\u001b[0;34m,\u001b[0m \u001b[0mdtype\u001b[0m\u001b[0;34m=\u001b[0m\u001b[0mdtype\u001b[0m\u001b[0;34m)\u001b[0m\u001b[0;34m\u001b[0m\u001b[0m\n\u001b[0m\u001b[1;32m    267\u001b[0m         \u001b[0;32melif\u001b[0m \u001b[0misinstance\u001b[0m\u001b[0;34m(\u001b[0m\u001b[0mdata\u001b[0m\u001b[0;34m,\u001b[0m \u001b[0mma\u001b[0m\u001b[0;34m.\u001b[0m\u001b[0mMaskedArray\u001b[0m\u001b[0;34m)\u001b[0m\u001b[0;34m:\u001b[0m\u001b[0;34m\u001b[0m\u001b[0m\n\u001b[1;32m    268\u001b[0m             \u001b[0;32mimport\u001b[0m \u001b[0mnumpy\u001b[0m\u001b[0;34m.\u001b[0m\u001b[0mma\u001b[0m\u001b[0;34m.\u001b[0m\u001b[0mmrecords\u001b[0m \u001b[0;32mas\u001b[0m \u001b[0mmrecords\u001b[0m\u001b[0;34m\u001b[0m\u001b[0m\n",
      "\u001b[0;32m//anaconda/lib/python2.7/site-packages/pandas/core/frame.pyc\u001b[0m in \u001b[0;36m_init_dict\u001b[0;34m(self, data, index, columns, dtype)\u001b[0m\n\u001b[1;32m    400\u001b[0m             \u001b[0marrays\u001b[0m \u001b[0;34m=\u001b[0m \u001b[0;34m[\u001b[0m\u001b[0mdata\u001b[0m\u001b[0;34m[\u001b[0m\u001b[0mk\u001b[0m\u001b[0;34m]\u001b[0m \u001b[0;32mfor\u001b[0m \u001b[0mk\u001b[0m \u001b[0;32min\u001b[0m \u001b[0mkeys\u001b[0m\u001b[0;34m]\u001b[0m\u001b[0;34m\u001b[0m\u001b[0m\n\u001b[1;32m    401\u001b[0m \u001b[0;34m\u001b[0m\u001b[0m\n\u001b[0;32m--> 402\u001b[0;31m         \u001b[0;32mreturn\u001b[0m \u001b[0m_arrays_to_mgr\u001b[0m\u001b[0;34m(\u001b[0m\u001b[0marrays\u001b[0m\u001b[0;34m,\u001b[0m \u001b[0mdata_names\u001b[0m\u001b[0;34m,\u001b[0m \u001b[0mindex\u001b[0m\u001b[0;34m,\u001b[0m \u001b[0mcolumns\u001b[0m\u001b[0;34m,\u001b[0m \u001b[0mdtype\u001b[0m\u001b[0;34m=\u001b[0m\u001b[0mdtype\u001b[0m\u001b[0;34m)\u001b[0m\u001b[0;34m\u001b[0m\u001b[0m\n\u001b[0m\u001b[1;32m    403\u001b[0m \u001b[0;34m\u001b[0m\u001b[0m\n\u001b[1;32m    404\u001b[0m     \u001b[0;32mdef\u001b[0m \u001b[0m_init_ndarray\u001b[0m\u001b[0;34m(\u001b[0m\u001b[0mself\u001b[0m\u001b[0;34m,\u001b[0m \u001b[0mvalues\u001b[0m\u001b[0;34m,\u001b[0m \u001b[0mindex\u001b[0m\u001b[0;34m,\u001b[0m \u001b[0mcolumns\u001b[0m\u001b[0;34m,\u001b[0m \u001b[0mdtype\u001b[0m\u001b[0;34m=\u001b[0m\u001b[0mNone\u001b[0m\u001b[0;34m,\u001b[0m \u001b[0mcopy\u001b[0m\u001b[0;34m=\u001b[0m\u001b[0mFalse\u001b[0m\u001b[0;34m)\u001b[0m\u001b[0;34m:\u001b[0m\u001b[0;34m\u001b[0m\u001b[0m\n",
      "\u001b[0;32m//anaconda/lib/python2.7/site-packages/pandas/core/frame.pyc\u001b[0m in \u001b[0;36m_arrays_to_mgr\u001b[0;34m(arrays, arr_names, index, columns, dtype)\u001b[0m\n\u001b[1;32m   5396\u001b[0m     \u001b[0;31m# figure out the index, if necessary\u001b[0m\u001b[0;34m\u001b[0m\u001b[0;34m\u001b[0m\u001b[0m\n\u001b[1;32m   5397\u001b[0m     \u001b[0;32mif\u001b[0m \u001b[0mindex\u001b[0m \u001b[0;32mis\u001b[0m \u001b[0mNone\u001b[0m\u001b[0;34m:\u001b[0m\u001b[0;34m\u001b[0m\u001b[0m\n\u001b[0;32m-> 5398\u001b[0;31m         \u001b[0mindex\u001b[0m \u001b[0;34m=\u001b[0m \u001b[0mextract_index\u001b[0m\u001b[0;34m(\u001b[0m\u001b[0marrays\u001b[0m\u001b[0;34m)\u001b[0m\u001b[0;34m\u001b[0m\u001b[0m\n\u001b[0m\u001b[1;32m   5399\u001b[0m     \u001b[0;32melse\u001b[0m\u001b[0;34m:\u001b[0m\u001b[0;34m\u001b[0m\u001b[0m\n\u001b[1;32m   5400\u001b[0m         \u001b[0mindex\u001b[0m \u001b[0;34m=\u001b[0m \u001b[0m_ensure_index\u001b[0m\u001b[0;34m(\u001b[0m\u001b[0mindex\u001b[0m\u001b[0;34m)\u001b[0m\u001b[0;34m\u001b[0m\u001b[0m\n",
      "\u001b[0;32m//anaconda/lib/python2.7/site-packages/pandas/core/frame.pyc\u001b[0m in \u001b[0;36mextract_index\u001b[0;34m(data)\u001b[0m\n\u001b[1;32m   5435\u001b[0m \u001b[0;34m\u001b[0m\u001b[0m\n\u001b[1;32m   5436\u001b[0m         \u001b[0;32mif\u001b[0m \u001b[0;32mnot\u001b[0m \u001b[0mindexes\u001b[0m \u001b[0;32mand\u001b[0m \u001b[0;32mnot\u001b[0m \u001b[0mraw_lengths\u001b[0m\u001b[0;34m:\u001b[0m\u001b[0;34m\u001b[0m\u001b[0m\n\u001b[0;32m-> 5437\u001b[0;31m             raise ValueError('If using all scalar values, you must pass'\n\u001b[0m\u001b[1;32m   5438\u001b[0m                              ' an index')\n\u001b[1;32m   5439\u001b[0m \u001b[0;34m\u001b[0m\u001b[0m\n",
      "\u001b[0;31mValueError\u001b[0m: If using all scalar values, you must pass an index"
     ]
    }
   ],
   "source": [
    "res = pd.DataFrame(columns=('country', 'mortality_rate'))\n",
    "#res = res.set_values('test',1)\n",
    "temp = pd.DataFrame({'country': 'test', 'mortality_rate': 1})\n",
    "\n",
    "res = pd.concat([res, temp])\n",
    "    "
   ]
  },
  {
   "cell_type": "code",
   "execution_count": 50,
   "metadata": {
    "collapsed": false
   },
   "outputs": [
    {
     "ename": "SyntaxError",
     "evalue": "invalid syntax (<ipython-input-50-b5da3b9aab13>, line 6)",
     "output_type": "error",
     "traceback": [
      "\u001b[0;36m  File \u001b[0;32m\"<ipython-input-50-b5da3b9aab13>\"\u001b[0;36m, line \u001b[0;32m6\u001b[0m\n\u001b[0;31m    p1=pd.DataFrame(d, columns=('Country', 'Rate'))\u001b[0m\n\u001b[0m     ^\u001b[0m\n\u001b[0;31mSyntaxError\u001b[0m\u001b[0;31m:\u001b[0m invalid syntax\n"
     ]
    }
   ],
   "source": [
    "d=[]\n",
    "for element in document.iterfind('country'):\n",
    "    #print '* ' + element.find('name').text + ':',\n",
    "    if element.find('infant_mortality') is not None:\n",
    "        d.append((element.find('name').text, element.find('infant_mortality').text)\n",
    "p1=pd.DataFrame(d, columns=('Country', 'Rate'))\n"
   ]
  },
  {
   "cell_type": "code",
   "execution_count": 49,
   "metadata": {
    "collapsed": false
   },
   "outputs": [
    {
     "ename": "TypeError",
     "evalue": "unhashable type: 'list'",
     "output_type": "error",
     "traceback": [
      "\u001b[0;31m---------------------------------------------------------------------------\u001b[0m",
      "\u001b[0;31mTypeError\u001b[0m                                 Traceback (most recent call last)",
      "\u001b[0;32m<ipython-input-49-db39712a1f80>\u001b[0m in \u001b[0;36m<module>\u001b[0;34m()\u001b[0m\n\u001b[0;32m----> 1\u001b[0;31m \u001b[0mp\u001b[0m\u001b[0;34m.\u001b[0m\u001b[0msort_values\u001b[0m\u001b[0;34m(\u001b[0m\u001b[0;34m[\u001b[0m\u001b[0;34m'Rate'\u001b[0m\u001b[0;34m]\u001b[0m\u001b[0;34m)\u001b[0m\u001b[0;34m.\u001b[0m\u001b[0mhead\u001b[0m\u001b[0;34m(\u001b[0m\u001b[0;36m10\u001b[0m\u001b[0;34m)\u001b[0m\u001b[0;34m\u001b[0m\u001b[0m\n\u001b[0m",
      "\u001b[0;32m//anaconda/lib/python2.7/site-packages/pandas/core/series.pyc\u001b[0m in \u001b[0;36msort_values\u001b[0;34m(self, axis, ascending, inplace, kind, na_position)\u001b[0m\n\u001b[1;32m   1726\u001b[0m                     kind='quicksort', na_position='last'):\n\u001b[1;32m   1727\u001b[0m \u001b[0;34m\u001b[0m\u001b[0m\n\u001b[0;32m-> 1728\u001b[0;31m         \u001b[0maxis\u001b[0m \u001b[0;34m=\u001b[0m \u001b[0mself\u001b[0m\u001b[0;34m.\u001b[0m\u001b[0m_get_axis_number\u001b[0m\u001b[0;34m(\u001b[0m\u001b[0maxis\u001b[0m\u001b[0;34m)\u001b[0m\u001b[0;34m\u001b[0m\u001b[0m\n\u001b[0m\u001b[1;32m   1729\u001b[0m \u001b[0;34m\u001b[0m\u001b[0m\n\u001b[1;32m   1730\u001b[0m         \u001b[0;31m# GH 5856/5853\u001b[0m\u001b[0;34m\u001b[0m\u001b[0;34m\u001b[0m\u001b[0m\n",
      "\u001b[0;32m//anaconda/lib/python2.7/site-packages/pandas/core/generic.pyc\u001b[0m in \u001b[0;36m_get_axis_number\u001b[0;34m(self, axis)\u001b[0m\n\u001b[1;32m    326\u001b[0m \u001b[0;34m\u001b[0m\u001b[0m\n\u001b[1;32m    327\u001b[0m     \u001b[0;32mdef\u001b[0m \u001b[0m_get_axis_number\u001b[0m\u001b[0;34m(\u001b[0m\u001b[0mself\u001b[0m\u001b[0;34m,\u001b[0m \u001b[0maxis\u001b[0m\u001b[0;34m)\u001b[0m\u001b[0;34m:\u001b[0m\u001b[0;34m\u001b[0m\u001b[0m\n\u001b[0;32m--> 328\u001b[0;31m         \u001b[0maxis\u001b[0m \u001b[0;34m=\u001b[0m \u001b[0mself\u001b[0m\u001b[0;34m.\u001b[0m\u001b[0m_AXIS_ALIASES\u001b[0m\u001b[0;34m.\u001b[0m\u001b[0mget\u001b[0m\u001b[0;34m(\u001b[0m\u001b[0maxis\u001b[0m\u001b[0;34m,\u001b[0m \u001b[0maxis\u001b[0m\u001b[0;34m)\u001b[0m\u001b[0;34m\u001b[0m\u001b[0m\n\u001b[0m\u001b[1;32m    329\u001b[0m         \u001b[0;32mif\u001b[0m \u001b[0mis_integer\u001b[0m\u001b[0;34m(\u001b[0m\u001b[0maxis\u001b[0m\u001b[0;34m)\u001b[0m\u001b[0;34m:\u001b[0m\u001b[0;34m\u001b[0m\u001b[0m\n\u001b[1;32m    330\u001b[0m             \u001b[0;32mif\u001b[0m \u001b[0maxis\u001b[0m \u001b[0;32min\u001b[0m \u001b[0mself\u001b[0m\u001b[0;34m.\u001b[0m\u001b[0m_AXIS_NAMES\u001b[0m\u001b[0;34m:\u001b[0m\u001b[0;34m\u001b[0m\u001b[0m\n",
      "\u001b[0;31mTypeError\u001b[0m: unhashable type: 'list'"
     ]
    }
   ],
   "source": [
    "p.sort_values(['Rate']).head(10)"
   ]
  },
  {
   "cell_type": "code",
   "execution_count": 26,
   "metadata": {
    "collapsed": false
   },
   "outputs": [],
   "source": [
    "p=p.Rate.astype(np.float)"
   ]
  },
  {
   "cell_type": "code",
   "execution_count": 28,
   "metadata": {
    "collapsed": false
   },
   "outputs": [
    {
     "data": {
      "text/plain": [
       "0    13.19\n",
       "1     4.78\n",
       "2     7.90\n",
       "3     6.16\n",
       "4     3.69\n",
       "Name: Rate, dtype: float64"
      ]
     },
     "execution_count": 28,
     "metadata": {},
     "output_type": "execute_result"
    }
   ],
   "source": [
    "p.head()"
   ]
  },
  {
   "cell_type": "code",
   "execution_count": null,
   "metadata": {
    "collapsed": true
   },
   "outputs": [],
   "source": [
    "sort"
   ]
  }
 ],
 "metadata": {
  "anaconda-cloud": {},
  "kernelspec": {
   "display_name": "Python [default]",
   "language": "python",
   "name": "python2"
  },
  "language_info": {
   "codemirror_mode": {
    "name": "ipython",
    "version": 2
   },
   "file_extension": ".py",
   "mimetype": "text/x-python",
   "name": "python",
   "nbconvert_exporter": "python",
   "pygments_lexer": "ipython2",
   "version": "2.7.12"
  }
 },
 "nbformat": 4,
 "nbformat_minor": 0
}
