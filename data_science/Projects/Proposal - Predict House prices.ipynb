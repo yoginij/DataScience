{
 "cells": [
  {
   "cell_type": "markdown",
   "metadata": {},
   "source": [
    "# Project Proposal - House Prices\n",
    "\n",
    "## Problem Statement :\n",
    " Every home buyer evaluates the house based on many features and attributes related to the house. One of the key attribute is price and it varies based on other attributes/features related to the house. Among the many attributes related to a house, its dificult to predict the house price.\n",
    "\n",
    "## Client & Business Value:\n",
    " Predicting house prices based on the many attributes would really help the client make a better estimation. It would also highlight key attributes which influence the prices of house.\n",
    "\n",
    "## Data:\n",
    "The dataset used is Ames Housing dataset, which has 4 yaears of data related to boston housing. This data was pulled from Kaggle.https://www.kaggle.com/c/house-prices-advanced-regression-techniques. \n",
    "Data description for the attributes could be found here :- https://www.kaggle.com/c/house-prices-advanced-regression-techniques/data \n",
    "\n",
    "## Approach:\n",
    "Following would be the high level approach:-\n",
    "1. Data wrangling\n",
    "2. Analysis\n",
    "3. Fitting the model\n",
    "4. Validating the model\n",
    "5. Visualization and summarization\n",
    "These will be performed in ipython notebook.\n",
    "\n",
    "## Deliverables:\n",
    "A final presentation will be created how what steps were performed and the finding.\n",
    "ipython notebook and Readme to be created to decribe the process.\n",
    "\n",
    "\n",
    "    \n",
    "    \n",
    "    \n",
    "    "
   ]
  }
 ],
 "metadata": {
  "kernelspec": {
   "display_name": "Python [conda root]",
   "language": "python",
   "name": "conda-root-py"
  },
  "language_info": {
   "codemirror_mode": {
    "name": "ipython",
    "version": 2
   },
   "file_extension": ".py",
   "mimetype": "text/x-python",
   "name": "python",
   "nbconvert_exporter": "python",
   "pygments_lexer": "ipython2",
   "version": "2.7.12"
  }
 },
 "nbformat": 4,
 "nbformat_minor": 0
}
